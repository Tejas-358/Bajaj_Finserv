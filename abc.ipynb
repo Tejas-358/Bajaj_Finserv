{
 "cells": [
  {
   "cell_type": "code",
   "execution_count": 1,
   "id": "initial_id",
   "metadata": {
    "collapsed": true,
    "ExecuteTime": {
     "end_time": "2024-07-19T04:20:14.308925700Z",
     "start_time": "2024-07-19T04:20:13.814920100Z"
    }
   },
   "outputs": [],
   "source": [
    "import pandas as pd"
   ]
  },
  {
   "cell_type": "code",
   "execution_count": 54,
   "outputs": [],
   "source": [
    "file = pd.read_json('DataEngineeringQ2.json')"
   ],
   "metadata": {
    "collapsed": false,
    "ExecuteTime": {
     "end_time": "2024-07-19T04:46:32.467217200Z",
     "start_time": "2024-07-19T04:46:32.455369900Z"
    }
   },
   "id": "dc1fb744e7c878ac"
  },
  {
   "cell_type": "code",
   "execution_count": 55,
   "outputs": [
    {
     "data": {
      "text/plain": "         _id appointmentId                                     patientDetails  \\\n0   T6hf3rb5     40d2-9c9f  {'_id': 'T6hb630b3', 'firstName': 'Css', 'last...   \n1   T65g3rb5      40dbtc9f  {'_id': 'T6h33b300', 'firstName': 'Lokesh', 'l...   \n2   T7g6Srb5      g3Wt5c9f  {'_id': 'TjhB4373', 'phrId': '63b5hvy614d5', '...   \n3   94bg8W8d      fb6-a535  {'_id': '6df4R5b', 'phrId': '644nig7y', 'first...   \n4   T6h8H56c       67h7KL9  {'_id': 'lK9hy06a', 'firstName': 'Raghu Viju',...   \n5    T9Jh8c8        Hy7Y91  {'_id': 'kI9d5c6', 'firstName': 'Dinesh Kumar'...   \n6   9Is624b9     10dY8a-4a  {'_id': 'i9R324b7', 'phrId': '67Yt2b97', 'firs...   \n7   T8H9c3c6      e8056Ye8  {'_id': 'T6h41b5ad3d8002ad9c3c4', 'firstName':...   \n8    T8Ud380     dbc0-c66b  {'_id': 'T9Iy347e', 'firstName': 'Dinesh', 'la...   \n9    T345fG4        1576a7  {'_id': 'T4Rb1a2', 'firstName': 'Sanjay', 'las...   \n10  T4F6a175       b6Te4ac  {'_id': 'Tr4T2173', 'phrId': '6E48U79', 'first...   \n11   TW3r002        bu5Qfb  {'_id': 'T6Wa50', 'firstName': 'Nirmala', 'las...   \n12   6U6Ra36       86U8Y45  {'_id': '65sRa36', 'firstName': 'Satish', 'las...   \n13   u7Y7Aa5       Ufd7231  {'_id': 'UG67231', 'phrId': 'T6a7231', 'firstN...   \n14   T3R5dec       E4u5Ea2  {'_id': 'E4u5Ea2', 'firstName': 'Satyanaaryan'...   \n15   T4E7Ge6      T4E3e410  {'_id': 'T4E7Ge6', 'firstName': 'Nivitha', 'la...   \n16  E5336545       04Re22d  {'_id': '04Re22d', 'firstName': 'Tejpal', 'las...   \n17   T7Ys58b      af9784hf  {'_id': 'u7dWa589', 'firstName': 'Nandhini', '...   \n18  Y874Us5w       I8eW201  {'_id': 'TU7e913', 'firstName': 'Dhanamma', 'l...   \n19   Y7s5G42     f7r501cb1  {'_id': 'H8s2d40', 'firstName': 'Kushal', 'las...   \n20  Y7eE5cd8    cf092c8t6c  {'_id': 'u9cd6', 'phrId': '6463U8s231', 'first...   \n21   I9984e8      O02n262e  {'_id': 'Pdh97S6', 'phrId': 'Jus0480', 'firstN...   \n22  Tu78a783      5dfN9s41  {'_id': 'h02U8a781', 'firstName': 'Preethi', '...   \n23   U9D2w6c      cc86re0f  {'_id': 'T6h40a5ad3d8002ad9c06a', 'firstName':...   \n24  T6hY6sEe       bd99dU7  {'_id': 'Y7sHec', 'firstName': 'Naresh', 'last...   \n25    H7sT6c        bcWe50  {'_id': 'T6h408981ayf32b63bcfa', 'firstName': ...   \n26   8Utyd5b       7au8se3  {'_id': 'T6U67af9', 'firstName': 'Govardhan', ...   \n27  y87Ta5c7      432cT213  {'_id': 'R53Et5W', 'firstName': 'Rajeshwari', ...   \n28  Ub7S65b7      D3fFr42c  {'_id': 'dE3r$2b5', 'firstName': 'Santosh', 'l...   \n29   yD7s2d7       7uyT6Rs  {'_id': 'TI93Hd5', 'firstName': 'Tarachand', '...   \n30   I9Sb4e8        O02n2e  {'_id': 'Pdh97S6', 'phrId': 'Jus0480', 'firstN...   \n\n       phoneNumber                                   consultationData  \n0      96686896670  {'adviceTemplates': [], 'advices': [], 'attach...  \n1       9496368916  {'adviceTemplates': [], 'advices': [], 'attach...  \n2       7787204833  {'adviceTemplates': [], 'advices': [], 'attach...  \n3       9376756879  {'adviceTemplates': [], 'advices': [], 'attach...  \n4       5267384241  {'adviceTemplates': [], 'advices': [], 'attach...  \n5    +919826374025  {'adviceTemplates': [], 'advices': [], 'attach...  \n6       7587265252  {'adviceTemplates': [], 'advices': [], 'attach...  \n7       5586958767  {'adviceTemplates': [], 'advices': [], 'attach...  \n8       9987602525  {'adviceTemplates': [], 'advices': [], 'attach...  \n9       9234354366  {'adviceTemplates': [], 'advices': [], 'attach...  \n10      4863281056  {'adviceTemplates': [], 'advices': [], 'attach...  \n11      8687986800  {'adviceTemplates': [], 'advices': [], 'attach...  \n12                  {'adviceTemplates': [], 'advices': [], 'attach...  \n13      7152684236  {'labTest': [], 'emrTemplates': [], 'doctorNot...  \n14                  {'adviceTemplates': [], 'advices': [], 'attach...  \n15      9184723620  {'adviceTemplates': [], 'advices': [], 'attach...  \n16                  {'adviceTemplates': [], 'advices': [], 'attach...  \n17      5847346075  {'adviceTemplates': [], 'advices': [], 'attach...  \n18      9064537237  {'adviceTemplates': [], 'advices': [], 'attach...  \n19                  {'adviceTemplates': [], 'advices': [], 'attach...  \n20       992727892  {'adviceTemplates': [], 'advices': [], 'attach...  \n21      6888324121  {'adviceTemplates': [], 'advices': [], 'attach...  \n22      8248594521  {'adviceTemplates': [], 'advices': [], 'attach...  \n23   +917938475936  {'adviceTemplates': [], 'advices': [], 'attach...  \n24  +9124648979746  {'adviceTemplates': [], 'advices': [], 'attach...  \n25   +916883788633  {'adviceTemplates': [], 'advices': [], 'attach...  \n26   +916636278363  {'adviceTemplates': [], 'advices': [], 'attach...  \n27      6525356535  {'adviceTemplates': [], 'advices': [], 'attach...  \n28                  {'adviceTemplates': [], 'advices': [], 'attach...  \n29   +919093872282  {'adviceTemplates': [], 'advices': [], 'attach...  \n30   +916888324121  {'adviceTemplates': [], 'advices': [], 'attach...  ",
      "text/html": "<div>\n<style scoped>\n    .dataframe tbody tr th:only-of-type {\n        vertical-align: middle;\n    }\n\n    .dataframe tbody tr th {\n        vertical-align: top;\n    }\n\n    .dataframe thead th {\n        text-align: right;\n    }\n</style>\n<table border=\"1\" class=\"dataframe\">\n  <thead>\n    <tr style=\"text-align: right;\">\n      <th></th>\n      <th>_id</th>\n      <th>appointmentId</th>\n      <th>patientDetails</th>\n      <th>phoneNumber</th>\n      <th>consultationData</th>\n    </tr>\n  </thead>\n  <tbody>\n    <tr>\n      <th>0</th>\n      <td>T6hf3rb5</td>\n      <td>40d2-9c9f</td>\n      <td>{'_id': 'T6hb630b3', 'firstName': 'Css', 'last...</td>\n      <td>96686896670</td>\n      <td>{'adviceTemplates': [], 'advices': [], 'attach...</td>\n    </tr>\n    <tr>\n      <th>1</th>\n      <td>T65g3rb5</td>\n      <td>40dbtc9f</td>\n      <td>{'_id': 'T6h33b300', 'firstName': 'Lokesh', 'l...</td>\n      <td>9496368916</td>\n      <td>{'adviceTemplates': [], 'advices': [], 'attach...</td>\n    </tr>\n    <tr>\n      <th>2</th>\n      <td>T7g6Srb5</td>\n      <td>g3Wt5c9f</td>\n      <td>{'_id': 'TjhB4373', 'phrId': '63b5hvy614d5', '...</td>\n      <td>7787204833</td>\n      <td>{'adviceTemplates': [], 'advices': [], 'attach...</td>\n    </tr>\n    <tr>\n      <th>3</th>\n      <td>94bg8W8d</td>\n      <td>fb6-a535</td>\n      <td>{'_id': '6df4R5b', 'phrId': '644nig7y', 'first...</td>\n      <td>9376756879</td>\n      <td>{'adviceTemplates': [], 'advices': [], 'attach...</td>\n    </tr>\n    <tr>\n      <th>4</th>\n      <td>T6h8H56c</td>\n      <td>67h7KL9</td>\n      <td>{'_id': 'lK9hy06a', 'firstName': 'Raghu Viju',...</td>\n      <td>5267384241</td>\n      <td>{'adviceTemplates': [], 'advices': [], 'attach...</td>\n    </tr>\n    <tr>\n      <th>5</th>\n      <td>T9Jh8c8</td>\n      <td>Hy7Y91</td>\n      <td>{'_id': 'kI9d5c6', 'firstName': 'Dinesh Kumar'...</td>\n      <td>+919826374025</td>\n      <td>{'adviceTemplates': [], 'advices': [], 'attach...</td>\n    </tr>\n    <tr>\n      <th>6</th>\n      <td>9Is624b9</td>\n      <td>10dY8a-4a</td>\n      <td>{'_id': 'i9R324b7', 'phrId': '67Yt2b97', 'firs...</td>\n      <td>7587265252</td>\n      <td>{'adviceTemplates': [], 'advices': [], 'attach...</td>\n    </tr>\n    <tr>\n      <th>7</th>\n      <td>T8H9c3c6</td>\n      <td>e8056Ye8</td>\n      <td>{'_id': 'T6h41b5ad3d8002ad9c3c4', 'firstName':...</td>\n      <td>5586958767</td>\n      <td>{'adviceTemplates': [], 'advices': [], 'attach...</td>\n    </tr>\n    <tr>\n      <th>8</th>\n      <td>T8Ud380</td>\n      <td>dbc0-c66b</td>\n      <td>{'_id': 'T9Iy347e', 'firstName': 'Dinesh', 'la...</td>\n      <td>9987602525</td>\n      <td>{'adviceTemplates': [], 'advices': [], 'attach...</td>\n    </tr>\n    <tr>\n      <th>9</th>\n      <td>T345fG4</td>\n      <td>1576a7</td>\n      <td>{'_id': 'T4Rb1a2', 'firstName': 'Sanjay', 'las...</td>\n      <td>9234354366</td>\n      <td>{'adviceTemplates': [], 'advices': [], 'attach...</td>\n    </tr>\n    <tr>\n      <th>10</th>\n      <td>T4F6a175</td>\n      <td>b6Te4ac</td>\n      <td>{'_id': 'Tr4T2173', 'phrId': '6E48U79', 'first...</td>\n      <td>4863281056</td>\n      <td>{'adviceTemplates': [], 'advices': [], 'attach...</td>\n    </tr>\n    <tr>\n      <th>11</th>\n      <td>TW3r002</td>\n      <td>bu5Qfb</td>\n      <td>{'_id': 'T6Wa50', 'firstName': 'Nirmala', 'las...</td>\n      <td>8687986800</td>\n      <td>{'adviceTemplates': [], 'advices': [], 'attach...</td>\n    </tr>\n    <tr>\n      <th>12</th>\n      <td>6U6Ra36</td>\n      <td>86U8Y45</td>\n      <td>{'_id': '65sRa36', 'firstName': 'Satish', 'las...</td>\n      <td></td>\n      <td>{'adviceTemplates': [], 'advices': [], 'attach...</td>\n    </tr>\n    <tr>\n      <th>13</th>\n      <td>u7Y7Aa5</td>\n      <td>Ufd7231</td>\n      <td>{'_id': 'UG67231', 'phrId': 'T6a7231', 'firstN...</td>\n      <td>7152684236</td>\n      <td>{'labTest': [], 'emrTemplates': [], 'doctorNot...</td>\n    </tr>\n    <tr>\n      <th>14</th>\n      <td>T3R5dec</td>\n      <td>E4u5Ea2</td>\n      <td>{'_id': 'E4u5Ea2', 'firstName': 'Satyanaaryan'...</td>\n      <td></td>\n      <td>{'adviceTemplates': [], 'advices': [], 'attach...</td>\n    </tr>\n    <tr>\n      <th>15</th>\n      <td>T4E7Ge6</td>\n      <td>T4E3e410</td>\n      <td>{'_id': 'T4E7Ge6', 'firstName': 'Nivitha', 'la...</td>\n      <td>9184723620</td>\n      <td>{'adviceTemplates': [], 'advices': [], 'attach...</td>\n    </tr>\n    <tr>\n      <th>16</th>\n      <td>E5336545</td>\n      <td>04Re22d</td>\n      <td>{'_id': '04Re22d', 'firstName': 'Tejpal', 'las...</td>\n      <td></td>\n      <td>{'adviceTemplates': [], 'advices': [], 'attach...</td>\n    </tr>\n    <tr>\n      <th>17</th>\n      <td>T7Ys58b</td>\n      <td>af9784hf</td>\n      <td>{'_id': 'u7dWa589', 'firstName': 'Nandhini', '...</td>\n      <td>5847346075</td>\n      <td>{'adviceTemplates': [], 'advices': [], 'attach...</td>\n    </tr>\n    <tr>\n      <th>18</th>\n      <td>Y874Us5w</td>\n      <td>I8eW201</td>\n      <td>{'_id': 'TU7e913', 'firstName': 'Dhanamma', 'l...</td>\n      <td>9064537237</td>\n      <td>{'adviceTemplates': [], 'advices': [], 'attach...</td>\n    </tr>\n    <tr>\n      <th>19</th>\n      <td>Y7s5G42</td>\n      <td>f7r501cb1</td>\n      <td>{'_id': 'H8s2d40', 'firstName': 'Kushal', 'las...</td>\n      <td></td>\n      <td>{'adviceTemplates': [], 'advices': [], 'attach...</td>\n    </tr>\n    <tr>\n      <th>20</th>\n      <td>Y7eE5cd8</td>\n      <td>cf092c8t6c</td>\n      <td>{'_id': 'u9cd6', 'phrId': '6463U8s231', 'first...</td>\n      <td>992727892</td>\n      <td>{'adviceTemplates': [], 'advices': [], 'attach...</td>\n    </tr>\n    <tr>\n      <th>21</th>\n      <td>I9984e8</td>\n      <td>O02n262e</td>\n      <td>{'_id': 'Pdh97S6', 'phrId': 'Jus0480', 'firstN...</td>\n      <td>6888324121</td>\n      <td>{'adviceTemplates': [], 'advices': [], 'attach...</td>\n    </tr>\n    <tr>\n      <th>22</th>\n      <td>Tu78a783</td>\n      <td>5dfN9s41</td>\n      <td>{'_id': 'h02U8a781', 'firstName': 'Preethi', '...</td>\n      <td>8248594521</td>\n      <td>{'adviceTemplates': [], 'advices': [], 'attach...</td>\n    </tr>\n    <tr>\n      <th>23</th>\n      <td>U9D2w6c</td>\n      <td>cc86re0f</td>\n      <td>{'_id': 'T6h40a5ad3d8002ad9c06a', 'firstName':...</td>\n      <td>+917938475936</td>\n      <td>{'adviceTemplates': [], 'advices': [], 'attach...</td>\n    </tr>\n    <tr>\n      <th>24</th>\n      <td>T6hY6sEe</td>\n      <td>bd99dU7</td>\n      <td>{'_id': 'Y7sHec', 'firstName': 'Naresh', 'last...</td>\n      <td>+9124648979746</td>\n      <td>{'adviceTemplates': [], 'advices': [], 'attach...</td>\n    </tr>\n    <tr>\n      <th>25</th>\n      <td>H7sT6c</td>\n      <td>bcWe50</td>\n      <td>{'_id': 'T6h408981ayf32b63bcfa', 'firstName': ...</td>\n      <td>+916883788633</td>\n      <td>{'adviceTemplates': [], 'advices': [], 'attach...</td>\n    </tr>\n    <tr>\n      <th>26</th>\n      <td>8Utyd5b</td>\n      <td>7au8se3</td>\n      <td>{'_id': 'T6U67af9', 'firstName': 'Govardhan', ...</td>\n      <td>+916636278363</td>\n      <td>{'adviceTemplates': [], 'advices': [], 'attach...</td>\n    </tr>\n    <tr>\n      <th>27</th>\n      <td>y87Ta5c7</td>\n      <td>432cT213</td>\n      <td>{'_id': 'R53Et5W', 'firstName': 'Rajeshwari', ...</td>\n      <td>6525356535</td>\n      <td>{'adviceTemplates': [], 'advices': [], 'attach...</td>\n    </tr>\n    <tr>\n      <th>28</th>\n      <td>Ub7S65b7</td>\n      <td>D3fFr42c</td>\n      <td>{'_id': 'dE3r$2b5', 'firstName': 'Santosh', 'l...</td>\n      <td></td>\n      <td>{'adviceTemplates': [], 'advices': [], 'attach...</td>\n    </tr>\n    <tr>\n      <th>29</th>\n      <td>yD7s2d7</td>\n      <td>7uyT6Rs</td>\n      <td>{'_id': 'TI93Hd5', 'firstName': 'Tarachand', '...</td>\n      <td>+919093872282</td>\n      <td>{'adviceTemplates': [], 'advices': [], 'attach...</td>\n    </tr>\n    <tr>\n      <th>30</th>\n      <td>I9Sb4e8</td>\n      <td>O02n2e</td>\n      <td>{'_id': 'Pdh97S6', 'phrId': 'Jus0480', 'firstN...</td>\n      <td>+916888324121</td>\n      <td>{'adviceTemplates': [], 'advices': [], 'attach...</td>\n    </tr>\n  </tbody>\n</table>\n</div>"
     },
     "execution_count": 55,
     "metadata": {},
     "output_type": "execute_result"
    }
   ],
   "source": [
    "file"
   ],
   "metadata": {
    "collapsed": false,
    "ExecuteTime": {
     "end_time": "2024-07-19T04:46:32.945052400Z",
     "start_time": "2024-07-19T04:46:32.821209300Z"
    }
   },
   "id": "2d8d57219b29d717"
  },
  {
   "cell_type": "code",
   "execution_count": 61,
   "outputs": [
    {
     "data": {
      "text/plain": "{'_id': 'T6h33b300',\n 'firstName': 'Lokesh',\n 'lastName': '',\n 'emailId': '',\n 'gender': 'M',\n 'birthDate': '1996-05-16T18:30:00.000Z'}"
     },
     "execution_count": 61,
     "metadata": {},
     "output_type": "execute_result"
    }
   ],
   "source": [
    "file['patientDetails'][1]"
   ],
   "metadata": {
    "collapsed": false,
    "ExecuteTime": {
     "end_time": "2024-07-19T04:47:20.955272600Z",
     "start_time": "2024-07-19T04:47:20.938859700Z"
    }
   },
   "id": "5ac5923f9d57d718"
  },
  {
   "cell_type": "code",
   "execution_count": null,
   "outputs": [],
   "source": [
    "for i in "
   ],
   "metadata": {
    "collapsed": false
   },
   "id": "b4d8e3c8306f7ee4"
  },
  {
   "cell_type": "code",
   "execution_count": 73,
   "outputs": [
    {
     "name": "stdout",
     "output_type": "stream",
     "text": [
      "<built-in method values of dict object at 0x000001AE2C230680>\n",
      "<built-in method values of dict object at 0x000001AE2C2309C0>\n",
      "<built-in method values of dict object at 0x000001AE2C232F80>\n",
      "<built-in method values of dict object at 0x000001AE2C232E00>\n",
      "<built-in method values of dict object at 0x000001AE2C233340>\n",
      "<built-in method values of dict object at 0x000001AE2C2BCDC0>\n",
      "<built-in method values of dict object at 0x000001AE2C2BD240>\n",
      "<built-in method values of dict object at 0x000001AE2C2BD400>\n",
      "<built-in method values of dict object at 0x000001AE2C2BC680>\n",
      "<built-in method values of dict object at 0x000001AE2C2BF680>\n",
      "<built-in method values of dict object at 0x000001AE2836CC00>\n",
      "<built-in method values of dict object at 0x000001AE2C2BC180>\n",
      "<built-in method values of dict object at 0x000001AE2C162F80>\n",
      "<built-in method values of dict object at 0x000001AE2C2335C0>\n",
      "<built-in method values of dict object at 0x000001AE2C167180>\n",
      "<built-in method values of dict object at 0x000001AE2C2C8580>\n",
      "<built-in method values of dict object at 0x000001AE2C2CB000>\n",
      "<built-in method values of dict object at 0x000001AE2C2D9700>\n",
      "<built-in method values of dict object at 0x000001AE2C2DA440>\n",
      "<built-in method values of dict object at 0x000001AE2C2DBF40>\n",
      "<built-in method values of dict object at 0x000001AE2C2ECEC0>\n",
      "<built-in method values of dict object at 0x000001AE2C2EE140>\n",
      "<built-in method values of dict object at 0x000001AE2C2EFA40>\n",
      "<built-in method values of dict object at 0x000001AE2C2F1780>\n",
      "<built-in method values of dict object at 0x000001AE2C2F3000>\n",
      "<built-in method values of dict object at 0x000001AE2C2F4040>\n",
      "<built-in method values of dict object at 0x000001AE2C2F5CC0>\n",
      "<built-in method values of dict object at 0x000001AE2C2F72C0>\n",
      "<built-in method values of dict object at 0x000001AE2C2F9000>\n",
      "<built-in method values of dict object at 0x000001AE2C2F9FC0>\n",
      "<built-in method values of dict object at 0x000001AE2C2FBCC0>\n",
      "0\n"
     ]
    }
   ],
   "source": [
    "d = {}\n",
    "for i in file['patientDetails']:\n",
    "    d[i.keys] = i.values\n",
    "    print(i.values)"
   ],
   "metadata": {
    "collapsed": false,
    "ExecuteTime": {
     "end_time": "2024-07-19T04:52:22.440795600Z",
     "start_time": "2024-07-19T04:52:22.428902100Z"
    }
   },
   "id": "c17ce2d2e2667354"
  },
  {
   "cell_type": "code",
   "execution_count": 78,
   "outputs": [
    {
     "name": "stdout",
     "output_type": "stream",
     "text": [
      "{'adviceTemplates': [], 'advices': [], 'attachments': [], 'chiefComplaints': [], 'customOne': [], 'customThree': [], 'customTwo': [], 'disease': [], 'doctorNotes': '', 'emergencyInstructions': [], 'emergencyInstructionsTemplate': [], 'emrTemplates': [], 'examinationNote': [], 'findings': [], 'investigationInstructions': [], 'investigationTemplates': [], 'investigations': [], 'isBalicAppointment': False, 'isQuickPrescription': False, 'labTest': [], 'languageCode': 'en', 'medicineTemplates': [], 'medicines': [{'medicineId': '619404', 'medicineName': 'A', 'medicineNameStrengthType': '', 'frequency': '1-0-1', 'duration': '90', 'durationIn': 'DAYS', 'instruction': 'AFTER MEAL', 'isActive': True}, {'medicineId': '619804', 'medicineName': 'B', 'medicineNameStrengthType': '', 'frequency': '1-0-1', 'duration': '90', 'durationIn': 'DAYS', 'instruction': 'AFTER MEAL', 'isActive': False}], 'procedures': [], 'prognosis': [], 'sharePrescription': False}\n",
      "{'adviceTemplates': [], 'advices': [], 'attachments': [], 'chiefComplaints': [], 'customOne': [], 'customThree': [], 'customTwo': [], 'disease': [], 'doctorNotes': '', 'emergencyInstructions': [], 'emergencyInstructionsTemplate': [], 'emrTemplates': [], 'examinationNote': [], 'findings': [], 'investigationInstructions': [], 'investigationTemplates': [], 'investigations': [], 'isBalicAppointment': False, 'isQuickPrescription': False, 'labTest': [], 'languageCode': 'en', 'medicineTemplates': [], 'medicines': [{'medicineId': '619404', 'medicineName': 'A', 'medicineNameStrengthType': '', 'frequency': '1-0-1', 'duration': '90', 'durationIn': 'DAYS', 'instruction': 'AFTER MEAL', 'isActive': True}, {'medicineId': '619804', 'medicineName': 'C', 'medicineNameStrengthType': '', 'frequency': '1-0-1', 'duration': '30', 'durationIn': 'DAYS', 'instruction': 'AFTER MEAL', 'isActive': False}], 'procedures': [], 'prognosis': [], 'sharePrescription': False}\n",
      "{'adviceTemplates': [], 'advices': [], 'attachments': [], 'chiefComplaints': [], 'customOne': [], 'customThree': [], 'customTwo': [], 'disease': [], 'doctorNotes': '', 'emergencyInstructions': [], 'emergencyInstructionsTemplate': [], 'emrTemplates': [], 'examinationNote': [], 'findings': [], 'investigationInstructions': [], 'investigationTemplates': [], 'investigations': [], 'isBalicAppointment': False, 'isQuickPrescription': False, 'labTest': [], 'languageCode': 'en', 'medicineTemplates': [], 'medicines': [{'medicineId': '619404', 'medicineName': 'B', 'medicineNameStrengthType': '', 'frequency': '1-0-1', 'duration': '10', 'durationIn': 'DAYS', 'instruction': 'AFTER MEAL', 'isActive': True}, {'medicineId': '619404', 'medicineName': 'A', 'medicineNameStrengthType': '', 'frequency': '1-0-1', 'duration': '60', 'durationIn': 'DAYS', 'instruction': 'AFTER MEAL', 'isActive': False}, {'medicineId': '619404', 'medicineName': 'C', 'medicineNameStrengthType': '', 'frequency': '1-0-1', 'duration': '90', 'durationIn': 'DAYS', 'instruction': 'AFTER MEAL', 'isActive': True}], 'procedures': [], 'prognosis': [], 'sharePrescription': False}\n",
      "{'adviceTemplates': [], 'advices': [], 'attachments': [], 'chiefComplaints': [], 'customOne': [], 'customThree': [], 'customTwo': [], 'disease': [], 'doctorNotes': '', 'emergencyInstructions': [], 'emergencyInstructionsTemplate': [], 'emrTemplates': [], 'examinationNote': [], 'findings': [], 'investigationInstructions': [], 'investigationTemplates': [], 'investigations': [], 'isBalicAppointment': False, 'isQuickPrescription': False, 'labTest': [], 'languageCode': 'en', 'medicineTemplates': [], 'medicines': [{'medicineId': '619704', 'medicineName': 'B', 'medicineNameStrengthType': '', 'frequency': '1-0-1', 'duration': '90', 'durationIn': 'DAYS', 'instruction': 'AFTER MEAL', 'isActive': True}], 'procedures': [], 'prognosis': [], 'sharePrescription': False}\n",
      "{'adviceTemplates': [], 'advices': [], 'attachments': [], 'chiefComplaints': [], 'customOne': [], 'customThree': [], 'customTwo': [], 'disease': [], 'doctorNotes': '', 'emergencyInstructions': [], 'emergencyInstructionsTemplate': [], 'emrTemplates': [], 'examinationNote': [], 'findings': [], 'investigationInstructions': [], 'investigationTemplates': [], 'investigations': [], 'isBalicAppointment': False, 'isQuickPrescription': False, 'labTest': [], 'languageCode': 'en', 'medicineTemplates': [], 'medicines': [{'medicineId': '619384', 'medicineName': 'D', 'medicineNameStrengthType': '', 'frequency': '1-1-1', 'duration': '90', 'durationIn': 'DAYS', 'instruction': 'AFTER MEAL', 'isActive': True}, {'medicineId': '628424', 'medicineName': 'A', 'medicineNameStrengthType': '', 'frequency': '1-0-1', 'duration': '90', 'durationIn': 'DAYS', 'instruction': 'AFTER MEAL', 'isActive': True}], 'procedures': [], 'prognosis': [], 'sharePrescription': False}\n",
      "{'adviceTemplates': [], 'advices': [], 'attachments': [], 'chiefComplaints': [], 'customOne': [], 'customThree': [], 'customTwo': [], 'disease': [], 'doctorNotes': '', 'emergencyInstructions': [], 'emergencyInstructionsTemplate': [], 'emrTemplates': [], 'examinationNote': [], 'findings': [], 'investigationInstructions': [], 'investigationTemplates': [], 'investigations': [], 'isBalicAppointment': False, 'isQuickPrescription': False, 'labTest': [], 'languageCode': 'en', 'medicineTemplates': [], 'medicines': [{'medicineId': '643404', 'medicineName': 'A', 'medicineNameStrengthType': '', 'frequency': '1-0-1', 'duration': '90', 'durationIn': 'DAYS', 'instruction': 'AFTER MEAL', 'isActive': True}, {'medicineId': '615604', 'medicineName': 'D', 'medicineNameStrengthType': '', 'frequency': '1-0-1', 'duration': '90', 'durationIn': 'DAYS', 'instruction': 'AFTER MEAL', 'isActive': False}, {'medicineId': '617704', 'medicineName': 'E', 'medicineNameStrengthType': '', 'frequency': '1-0-1', 'duration': '90', 'durationIn': 'DAYS', 'instruction': 'AFTER MEAL', 'isActive': True}, {'medicineId': '685404', 'medicineName': 'C', 'medicineNameStrengthType': '', 'frequency': '1-0-1', 'duration': '90', 'durationIn': 'DAYS', 'instruction': 'AFTER MEAL', 'isActive': False}], 'procedures': [], 'prognosis': [], 'sharePrescription': False}\n",
      "{'adviceTemplates': [], 'advices': [], 'attachments': [], 'chiefComplaints': [], 'customOne': [], 'customThree': [], 'customTwo': [], 'disease': [], 'doctorNotes': '', 'emergencyInstructions': [], 'emergencyInstructionsTemplate': [], 'emrTemplates': [], 'examinationNote': [], 'findings': [], 'investigationInstructions': [], 'investigationTemplates': [], 'investigations': [], 'isBalicAppointment': False, 'isQuickPrescription': False, 'labTest': [], 'languageCode': 'en', 'medicineTemplates': [], 'medicines': [{'medicineId': '632304', 'medicineName': 'D', 'medicineNameStrengthType': '', 'frequency': '1-0-1', 'duration': '90', 'durationIn': 'DAYS', 'instruction': 'AFTER MEAL', 'isActive': True}, {'medicineId': '617624', 'medicineName': 'E', 'medicineNameStrengthType': '', 'frequency': '1-0-1', 'duration': '90', 'durationIn': 'DAYS', 'instruction': 'AFTER MEAL', 'isActive': True}], 'procedures': [], 'prognosis': [], 'sharePrescription': False}\n",
      "{'adviceTemplates': [], 'advices': [], 'attachments': [], 'chiefComplaints': [{'templates': [], 'symptomSnomedId': '', 'symptomSnomedName': 'cold', 'mediusId': ''}], 'customOne': [], 'customThree': [], 'customTwo': [], 'disease': [], 'doctorNotes': '', 'emergencyInstructions': [], 'emergencyInstructionsTemplate': [], 'emrTemplates': [], 'examinationNote': [], 'findings': [], 'investigationInstructions': [], 'investigationTemplates': [], 'investigations': [], 'isBalicAppointment': False, 'isQuickPrescription': False, 'labTest': [], 'languageCode': 'en', 'medicineTemplates': [], 'medicines': [{'medicineId': '619404', 'medicineName': 'A', 'medicineNameStrengthType': '', 'frequency': '1-0-1', 'duration': '90', 'durationIn': 'DAYS', 'instruction': 'AFTER MEAL', 'isActive': True}], 'procedures': [], 'prognosis': [], 'sharePrescription': False}\n",
      "{'adviceTemplates': [], 'advices': [], 'attachments': [], 'chiefComplaints': [], 'customOne': [], 'customThree': [], 'customTwo': [], 'disease': [], 'doctorNotes': '', 'emergencyInstructions': [], 'emergencyInstructionsTemplate': [], 'emrTemplates': [], 'examinationNote': [], 'findings': [], 'investigationInstructions': [], 'investigationTemplates': [], 'investigations': [], 'isBalicAppointment': False, 'isQuickPrescription': False, 'labTest': [], 'languageCode': 'en', 'medicineTemplates': [], 'medicines': [{'medicineId': '619504', 'medicineName': 'E', 'medicineNameStrengthType': '', 'frequency': '1-0-1', 'duration': '90', 'durationIn': 'DAYS', 'instruction': 'AFTER MEAL', 'isActive': True}], 'procedures': [], 'prognosis': [], 'sharePrescription': False}\n",
      "{'adviceTemplates': [], 'advices': [], 'attachments': [], 'chiefComplaints': [], 'customOne': [], 'customThree': [], 'customTwo': [], 'disease': [], 'doctorNotes': '', 'emergencyInstructions': [], 'emergencyInstructionsTemplate': [], 'emrTemplates': [], 'examinationNote': [], 'findings': [], 'investigationInstructions': [], 'investigationTemplates': [], 'investigations': [], 'isBalicAppointment': False, 'isQuickPrescription': False, 'labTest': [], 'languageCode': 'en', 'medicineTemplates': [], 'medicines': [], 'procedures': [], 'prognosis': [], 'sharePrescription': False}\n",
      "{'adviceTemplates': [], 'advices': [], 'attachments': [], 'chiefComplaints': [], 'customOne': [], 'customThree': [], 'customTwo': [], 'disease': [], 'doctorNotes': '', 'emergencyInstructions': [], 'emergencyInstructionsTemplate': [], 'emrTemplates': [], 'examinationNote': [], 'findings': [], 'investigationInstructions': [], 'investigationTemplates': [], 'investigations': [], 'isBalicAppointment': False, 'isQuickPrescription': False, 'labTest': [], 'languageCode': 'en', 'medicineTemplates': [], 'medicines': [{'medicineId': '619504', 'medicineName': 'E', 'medicineNameStrengthType': '', 'frequency': '1-0-1', 'duration': '90', 'durationIn': 'DAYS', 'instruction': 'AFTER MEAL', 'isActive': False}], 'procedures': [], 'prognosis': [], 'sharePrescription': False}\n",
      "{'adviceTemplates': [], 'advices': [], 'attachments': [], 'chiefComplaints': [], 'customOne': [], 'customThree': [], 'customTwo': [], 'disease': [], 'doctorNotes': '', 'emergencyInstructions': [], 'emergencyInstructionsTemplate': [], 'emrTemplates': [], 'examinationNote': [], 'findings': [], 'investigationInstructions': [], 'investigationTemplates': [], 'investigations': [], 'isBalicAppointment': False, 'isQuickPrescription': False, 'labTest': [], 'languageCode': 'en', 'medicineTemplates': [], 'medicines': [{'medicineId': '619504', 'medicineName': 'E', 'medicineNameStrengthType': '', 'frequency': '1-0-1', 'duration': '90', 'durationIn': 'DAYS', 'instruction': 'AFTER MEAL', 'isActive': True}, {'medicineId': '611304', 'medicineName': 'A', 'medicineNameStrengthType': '', 'frequency': '1-0-1', 'duration': '90', 'durationIn': 'DAYS', 'instruction': 'AFTER MEAL', 'isActive': True}, {'medicineId': '619504', 'medicineName': 'D', 'medicineNameStrengthType': '', 'frequency': '1-0-1', 'duration': '90', 'durationIn': 'DAYS', 'instruction': 'AFTER MEAL', 'isActive': False}], 'procedures': [], 'prognosis': [], 'sharePrescription': False}\n",
      "{'adviceTemplates': [], 'advices': [], 'attachments': [], 'chiefComplaints': [{'templates': [], 'symptomSnomedId': '', 'symptomSnomedName': 'puo', 'mediusId': ''}], 'customOne': [], 'customThree': [], 'customTwo': [], 'disease': [], 'doctorNotes': '', 'emergencyInstructions': [], 'emergencyInstructionsTemplate': [], 'emrTemplates': [], 'examinationNote': [], 'findings': [], 'investigationInstructions': [], 'investigationTemplates': [], 'investigations': [], 'isBalicAppointment': False, 'isQuickPrescription': False, 'labTest': [], 'languageCode': 'en', 'medicineTemplates': [], 'medicines': [], 'procedures': [], 'prognosis': [], 'sharePrescription': False}\n",
      "{'labTest': [], 'emrTemplates': [], 'doctorNotes': '', 'sharePrescription': False, 'languageCode': 'en', 'isBalicAppointment': False, 'isQuickPrescription': False, '_id': '6T67a6a4', 'chiefComplaints': [{'templates': [], 'symptomSnomedId': '', 'symptomSnomedName': 'fever and bodyache since today morning', 'mediusId': ''}, {'templates': [], 'symptomSnomedId': '', 'symptomSnomedName': ' 2 episodes of vomiting today morning', 'mediusId': ''}, {'templates': [], 'symptomSnomedId': '', 'symptomSnomedName': ' slight abdominal pain', 'mediusId': ''}, {'templates': [], 'symptomSnomedId': '', 'symptomSnomedName': ' No loose stools', 'mediusId': ''}, {'templates': [], 'symptomSnomedId': '', 'symptomSnomedName': ' No urinary complains', 'mediusId': ''}, {'templates': [], 'symptomSnomedId': '', 'symptomSnomedName': ' LMP-1/5/23', 'mediusId': ''}, {'templates': [], 'symptomSnomedId': '', 'symptomSnomedName': ' h/o travel 2-3 days back', 'mediusId': ''}], 'updatedAt': '2023-05-16T14:42:50.620Z', 'createdAt': '2023-05-16T14:42:50.620Z', 'customThree': [], 'customTwo': [], 'customOne': [], 'investigationInstructions': [], 'medicineTemplates': [], 'investigationTemplates': [], 'adviceTemplates': [], 'findings': [], 'emergencyInstructionsTemplate': [], 'emergencyInstructions': [], 'prognosis': [], 'investigations': [], 'procedures': [], 'advices': [], 'medicines': [{'medicineId': '619504', 'medicineName': 'A', 'medicineNameStrengthType': '', 'frequency': '1-0-1', 'duration': '90', 'durationIn': 'DAYS', 'instruction': 'AFTER MEAL', 'isActive': True}, {'medicineId': '619504', 'medicineName': 'B', 'medicineNameStrengthType': '', 'frequency': '1-0-1', 'duration': '90', 'durationIn': 'DAYS', 'instruction': 'AFTER MEAL', 'isActive': True}, {'medicineId': '619504', 'medicineName': 'D', 'medicineNameStrengthType': '', 'frequency': '1-0-1', 'duration': '90', 'durationIn': 'DAYS', 'instruction': 'AFTER MEAL', 'isActive': False}], 'attachments': [], 'examinationNote': [], 'disease': []}\n",
      "{'adviceTemplates': [], 'advices': [], 'attachments': [], 'chiefComplaints': [], 'customOne': [], 'customThree': [], 'customTwo': [], 'disease': [], 'doctorNotes': '', 'emergencyInstructions': [], 'emergencyInstructionsTemplate': [], 'emrTemplates': [], 'examinationNote': [], 'findings': [], 'investigationInstructions': [], 'investigationTemplates': [], 'investigations': [], 'isBalicAppointment': False, 'isQuickPrescription': False, 'labTest': [], 'languageCode': 'en', 'medicineTemplates': [], 'medicines': [], 'procedures': [], 'prognosis': [], 'sharePrescription': False}\n",
      "{'adviceTemplates': [], 'advices': [], 'attachments': [], 'chiefComplaints': [], 'customOne': [], 'customThree': [], 'customTwo': [], 'disease': [], 'doctorNotes': '', 'emergencyInstructions': [], 'emergencyInstructionsTemplate': [], 'emrTemplates': [], 'examinationNote': [], 'findings': [], 'investigationInstructions': [], 'investigationTemplates': [], 'investigations': [], 'isBalicAppointment': False, 'isQuickPrescription': False, 'labTest': [], 'languageCode': 'en', 'medicineTemplates': [], 'medicines': [{'medicineId': '619504', 'medicineName': 'B', 'medicineNameStrengthType': '', 'frequency': '1-0-1', 'duration': '90', 'durationIn': 'DAYS', 'instruction': 'AFTER MEAL', 'isActive': True}, {'medicineId': '619504', 'medicineName': 'D', 'medicineNameStrengthType': '', 'frequency': '1-0-1', 'duration': '90', 'durationIn': 'DAYS', 'instruction': 'AFTER MEAL', 'isActive': True}, {'medicineId': '619504', 'medicineName': 'C', 'medicineNameStrengthType': '', 'frequency': '1-0-1', 'duration': '90', 'durationIn': 'DAYS', 'instruction': 'AFTER MEAL', 'isActive': True}], 'procedures': [], 'prognosis': [], 'sharePrescription': False}\n",
      "{'adviceTemplates': [], 'advices': [], 'attachments': [], 'chiefComplaints': [{'templates': [], 'symptomSnomedId': '', 'symptomSnomedName': 'G/E', 'mediusId': ''}], 'customOne': [], 'customThree': [], 'customTwo': [], 'disease': [], 'doctorNotes': '', 'emergencyInstructions': [], 'emergencyInstructionsTemplate': [], 'emrTemplates': [], 'examinationNote': [], 'findings': [], 'investigationInstructions': [], 'investigationTemplates': [], 'investigations': [], 'isBalicAppointment': False, 'isQuickPrescription': False, 'labTest': [], 'languageCode': 'en', 'medicineTemplates': [], 'medicines': [{'medicineId': '619504', 'medicineName': 'C', 'medicineNameStrengthType': '', 'frequency': '1-0-1', 'duration': '90', 'durationIn': 'DAYS', 'instruction': 'AFTER MEAL', 'isActive': True}, {'medicineId': '619504', 'medicineName': 'A', 'medicineNameStrengthType': '', 'frequency': '1-0-1', 'duration': '90', 'durationIn': 'DAYS', 'instruction': 'AFTER MEAL', 'isActive': True}], 'procedures': [], 'prognosis': [], 'sharePrescription': False}\n",
      "{'adviceTemplates': [], 'advices': [], 'attachments': [], 'chiefComplaints': [], 'customOne': [], 'customThree': [], 'customTwo': [], 'disease': [], 'doctorNotes': '', 'emergencyInstructions': [], 'emergencyInstructionsTemplate': [], 'emrTemplates': [], 'examinationNote': [], 'findings': [], 'investigationInstructions': [], 'investigationTemplates': [], 'investigations': [], 'isBalicAppointment': False, 'isQuickPrescription': False, 'labTest': [], 'languageCode': 'en', 'medicineTemplates': [], 'medicines': [{'medicineId': '619504', 'medicineName': 'A', 'medicineNameStrengthType': '', 'frequency': '1-0-1', 'duration': '90', 'durationIn': 'DAYS', 'instruction': 'AFTER MEAL', 'isActive': True}, {'medicineId': '619504', 'medicineName': 'C', 'medicineNameStrengthType': '', 'frequency': '1-0-1', 'duration': '90', 'durationIn': 'DAYS', 'instruction': 'AFTER MEAL', 'isActive': False}, {'medicineId': '619504', 'medicineName': 'B', 'medicineNameStrengthType': '', 'frequency': '1-0-1', 'duration': '90', 'durationIn': 'DAYS', 'instruction': 'AFTER MEAL', 'isActive': True}], 'procedures': [], 'prognosis': [], 'sharePrescription': False}\n",
      "{'adviceTemplates': [], 'advices': [], 'attachments': [], 'chiefComplaints': [], 'customOne': [], 'customThree': [], 'customTwo': [], 'disease': [], 'doctorNotes': '', 'emergencyInstructions': [], 'emergencyInstructionsTemplate': [], 'emrTemplates': [], 'examinationNote': [], 'findings': [], 'investigationInstructions': [], 'investigationTemplates': [], 'investigations': [], 'isBalicAppointment': False, 'isQuickPrescription': False, 'labTest': [], 'languageCode': 'en', 'medicineTemplates': [], 'medicines': [{'medicineId': '619504', 'medicineName': 'A', 'medicineNameStrengthType': '', 'frequency': '1-0-1', 'duration': '90', 'durationIn': 'DAYS', 'instruction': 'AFTER MEAL', 'isActive': False}, {'medicineId': '619504', 'medicineName': 'B', 'medicineNameStrengthType': '', 'frequency': '1-0-1', 'duration': '90', 'durationIn': 'DAYS', 'instruction': 'AFTER MEAL', 'isActive': True}, {'medicineId': '619504', 'medicineName': 'C', 'medicineNameStrengthType': '', 'frequency': '1-0-1', 'duration': '90', 'durationIn': 'DAYS', 'instruction': 'AFTER MEAL', 'isActive': True}, {'medicineId': '619504', 'medicineName': 'D', 'medicineNameStrengthType': '', 'frequency': '1-0-1', 'duration': '90', 'durationIn': 'DAYS', 'instruction': 'AFTER MEAL', 'isActive': True}], 'procedures': [], 'prognosis': [], 'sharePrescription': False}\n",
      "{'adviceTemplates': [], 'advices': [], 'attachments': [], 'chiefComplaints': [{'templates': [], 'symptomSnomedId': '', 'symptomSnomedName': 'cold', 'mediusId': ''}], 'customOne': [], 'customThree': [], 'customTwo': [], 'disease': [], 'doctorNotes': '', 'emergencyInstructions': [], 'emergencyInstructionsTemplate': [], 'emrTemplates': [], 'examinationNote': [], 'findings': [], 'investigationInstructions': [], 'investigationTemplates': [], 'investigations': [], 'isBalicAppointment': False, 'isQuickPrescription': False, 'labTest': [], 'languageCode': 'en', 'medicineTemplates': [], 'medicines': [], 'procedures': [], 'prognosis': [], 'sharePrescription': False}\n",
      "{'adviceTemplates': [], 'advices': [], 'attachments': [], 'chiefComplaints': [], 'customOne': [], 'customThree': [], 'customTwo': [], 'disease': [], 'doctorNotes': '', 'emergencyInstructions': [], 'emergencyInstructionsTemplate': [], 'emrTemplates': [], 'examinationNote': [], 'findings': [], 'investigationInstructions': [], 'investigationTemplates': [], 'investigations': [], 'isBalicAppointment': False, 'isQuickPrescription': False, 'labTest': [], 'languageCode': 'en', 'medicineTemplates': [], 'medicines': [{'medicineId': '619504', 'medicineName': 'D', 'medicineNameStrengthType': '', 'frequency': '1-0-1', 'duration': '90', 'durationIn': 'DAYS', 'instruction': 'AFTER MEAL', 'isActive': False}], 'procedures': [], 'prognosis': [], 'sharePrescription': False}\n",
      "{'adviceTemplates': [], 'advices': [], 'attachments': [], 'chiefComplaints': [], 'customOne': [], 'customThree': [], 'customTwo': [], 'disease': [], 'doctorNotes': '', 'emergencyInstructions': [], 'emergencyInstructionsTemplate': [], 'emrTemplates': [], 'examinationNote': [], 'findings': [], 'investigationInstructions': [], 'investigationTemplates': [], 'investigations': [], 'isBalicAppointment': False, 'isQuickPrescription': False, 'labTest': [], 'languageCode': 'en', 'medicineTemplates': [], 'medicines': [{'medicineId': '612504', 'medicineName': 'D', 'medicineNameStrengthType': '', 'frequency': '1-0-1', 'duration': '90', 'durationIn': 'DAYS', 'instruction': 'AFTER MEAL', 'isActive': False}, {'medicineId': '612504', 'medicineName': 'D', 'medicineNameStrengthType': '', 'frequency': '1-0-1', 'duration': '90', 'durationIn': 'DAYS', 'instruction': 'AFTER MEAL', 'isActive': False}, {'medicineId': '612504', 'medicineName': 'B', 'medicineNameStrengthType': '', 'frequency': '1-0-1', 'duration': '90', 'durationIn': 'DAYS', 'instruction': 'AFTER MEAL', 'isActive': True}], 'procedures': [], 'prognosis': [], 'sharePrescription': False}\n",
      "{'adviceTemplates': [], 'advices': [], 'attachments': [], 'chiefComplaints': [], 'customOne': [], 'customThree': [], 'customTwo': [], 'disease': [], 'doctorNotes': '', 'emergencyInstructions': [], 'emergencyInstructionsTemplate': [], 'emrTemplates': [], 'examinationNote': [], 'findings': [], 'investigationInstructions': [], 'investigationTemplates': [], 'investigations': [], 'isBalicAppointment': False, 'isQuickPrescription': False, 'labTest': [], 'languageCode': 'en', 'medicineTemplates': [], 'medicines': [{'medicineId': '611504', 'medicineName': 'A', 'medicineNameStrengthType': '', 'frequency': '1-0-1', 'duration': '90', 'durationIn': 'DAYS', 'instruction': 'AFTER MEAL', 'isActive': True}, {'medicineId': '619504', 'medicineName': 'G', 'medicineNameStrengthType': '', 'frequency': '1-0-1', 'duration': '90', 'durationIn': 'DAYS', 'instruction': 'AFTER MEAL', 'isActive': False}, {'medicineId': '619304', 'medicineName': 'B', 'medicineNameStrengthType': '', 'frequency': '1-0-1', 'duration': '90', 'durationIn': 'DAYS', 'instruction': 'AFTER MEAL', 'isActive': True}, {'medicineId': '612504', 'medicineName': 'D', 'medicineNameStrengthType': '', 'frequency': '1-0-1', 'duration': '90', 'durationIn': 'DAYS', 'instruction': 'AFTER MEAL', 'isActive': True}], 'procedures': [], 'prognosis': [], 'sharePrescription': False}\n",
      "{'adviceTemplates': [], 'advices': [], 'attachments': [], 'chiefComplaints': [], 'customOne': [], 'customThree': [], 'customTwo': [], 'disease': [], 'doctorNotes': '', 'emergencyInstructions': [], 'emergencyInstructionsTemplate': [], 'emrTemplates': [], 'examinationNote': [], 'findings': [], 'investigationInstructions': [], 'investigationTemplates': [], 'investigations': [], 'isBalicAppointment': False, 'isQuickPrescription': False, 'labTest': [], 'languageCode': 'en', 'medicineTemplates': [], 'medicines': [{'medicineId': '612504', 'medicineName': 'A', 'medicineNameStrengthType': '', 'frequency': '1-0-1', 'duration': '90', 'durationIn': 'DAYS', 'instruction': 'AFTER MEAL', 'isActive': True}, {'medicineId': '612504', 'medicineName': 'B', 'medicineNameStrengthType': '', 'frequency': '1-0-1', 'duration': '90', 'durationIn': 'DAYS', 'instruction': 'AFTER MEAL', 'isActive': True}, {'medicineId': '612504', 'medicineName': 'C', 'medicineNameStrengthType': '', 'frequency': '1-0-1', 'duration': '90', 'durationIn': 'DAYS', 'instruction': 'AFTER MEAL', 'isActive': True}], 'procedures': [], 'prognosis': [], 'sharePrescription': False}\n",
      "{'adviceTemplates': [], 'advices': [], 'attachments': [], 'chiefComplaints': [{'templates': [], 'symptomSnomedId': '', 'symptomSnomedName': 'cough cold', 'mediusId': ''}], 'customOne': [], 'customThree': [], 'customTwo': [], 'disease': [], 'doctorNotes': '', 'emergencyInstructions': [], 'emergencyInstructionsTemplate': [], 'emrTemplates': [], 'examinationNote': [], 'findings': [], 'investigationInstructions': [], 'investigationTemplates': [], 'investigations': [], 'isBalicAppointment': False, 'isQuickPrescription': False, 'labTest': [], 'languageCode': 'en', 'medicineTemplates': [], 'medicines': [], 'procedures': [], 'prognosis': [], 'sharePrescription': False}\n",
      "{'adviceTemplates': [], 'advices': [], 'attachments': [], 'chiefComplaints': [], 'customOne': [], 'customThree': [], 'customTwo': [], 'disease': [], 'doctorNotes': '', 'emergencyInstructions': [], 'emergencyInstructionsTemplate': [], 'emrTemplates': [], 'examinationNote': [], 'findings': [], 'investigationInstructions': [], 'investigationTemplates': [], 'investigations': [], 'isBalicAppointment': False, 'isQuickPrescription': False, 'labTest': [], 'languageCode': 'en', 'medicineTemplates': [], 'medicines': [{'medicineId': '612504', 'medicineName': 'D', 'medicineNameStrengthType': '', 'frequency': '1-0-1', 'duration': '90', 'durationIn': 'DAYS', 'instruction': 'AFTER MEAL', 'isActive': True}, {'medicineId': '612504', 'medicineName': 'A', 'medicineNameStrengthType': '', 'frequency': '1-0-1', 'duration': '90', 'durationIn': 'DAYS', 'instruction': 'AFTER MEAL', 'isActive': True}, {'medicineId': '612504', 'medicineName': 'E', 'medicineNameStrengthType': '', 'frequency': '1-0-1', 'duration': '90', 'durationIn': 'DAYS', 'instruction': 'AFTER MEAL', 'isActive': True}, {'medicineId': '612504', 'medicineName': 'C', 'medicineNameStrengthType': '', 'frequency': '1-0-1', 'duration': '90', 'durationIn': 'DAYS', 'instruction': 'AFTER MEAL', 'isActive': False}], 'procedures': [], 'prognosis': [], 'sharePrescription': False}\n",
      "{'adviceTemplates': [], 'advices': [], 'attachments': [], 'chiefComplaints': [], 'customOne': [], 'customThree': [], 'customTwo': [], 'disease': [], 'doctorNotes': '', 'emergencyInstructions': [], 'emergencyInstructionsTemplate': [], 'emrTemplates': [], 'examinationNote': [], 'findings': [], 'investigationInstructions': [], 'investigationTemplates': [], 'investigations': [], 'isBalicAppointment': False, 'isQuickPrescription': False, 'labTest': [], 'languageCode': 'en', 'medicineTemplates': [], 'medicines': [{'medicineId': '612504', 'medicineName': 'C', 'medicineNameStrengthType': '', 'frequency': '1-0-1', 'duration': '90', 'durationIn': 'DAYS', 'instruction': 'AFTER MEAL', 'isActive': False}, {'medicineId': '612504', 'medicineName': 'D', 'medicineNameStrengthType': '', 'frequency': '1-0-1', 'duration': '90', 'durationIn': 'DAYS', 'instruction': 'AFTER MEAL', 'isActive': False}], 'procedures': [], 'prognosis': [], 'sharePrescription': False}\n",
      "{'adviceTemplates': [], 'advices': [], 'attachments': [], 'chiefComplaints': [], 'customOne': [], 'customThree': [], 'customTwo': [], 'disease': [], 'doctorNotes': '', 'emergencyInstructions': [], 'emergencyInstructionsTemplate': [], 'emrTemplates': [], 'examinationNote': [], 'findings': [], 'investigationInstructions': [], 'investigationTemplates': [], 'investigations': [], 'isBalicAppointment': False, 'isQuickPrescription': False, 'labTest': [], 'languageCode': 'en', 'medicineTemplates': [], 'medicines': [{'medicineId': '612504', 'medicineName': 'A', 'medicineNameStrengthType': '', 'frequency': '1-0-1', 'duration': '90', 'durationIn': 'DAYS', 'instruction': 'AFTER MEAL', 'isActive': False}, {'medicineId': '612504', 'medicineName': 'C', 'medicineNameStrengthType': '', 'frequency': '1-0-1', 'duration': '90', 'durationIn': 'DAYS', 'instruction': 'AFTER MEAL', 'isActive': True}, {'medicineId': '612504', 'medicineName': 'C', 'medicineNameStrengthType': '', 'frequency': '1-0-1', 'duration': '90', 'durationIn': 'DAYS', 'instruction': 'AFTER MEAL', 'isActive': False}, {'medicineId': '612504', 'medicineName': 'D', 'medicineNameStrengthType': '', 'frequency': '1-0-1', 'duration': '90', 'durationIn': 'DAYS', 'instruction': 'AFTER MEAL', 'isActive': True}], 'procedures': [], 'prognosis': [], 'sharePrescription': False}\n",
      "{'adviceTemplates': [], 'advices': [], 'attachments': [], 'chiefComplaints': [{'templates': [], 'symptomSnomedId': '', 'symptomSnomedName': 'stone pain', 'mediusId': ''}], 'customOne': [], 'customThree': [], 'customTwo': [], 'disease': [], 'doctorNotes': '', 'emergencyInstructions': [], 'emergencyInstructionsTemplate': [], 'emrTemplates': [], 'examinationNote': [], 'findings': [], 'investigationInstructions': [], 'investigationTemplates': [], 'investigations': [], 'isBalicAppointment': False, 'isQuickPrescription': False, 'labTest': [], 'languageCode': 'en', 'medicineTemplates': [], 'medicines': [], 'procedures': [], 'prognosis': [], 'sharePrescription': False}\n",
      "{'adviceTemplates': [], 'advices': [], 'attachments': [], 'chiefComplaints': [], 'customOne': [], 'customThree': [], 'customTwo': [], 'disease': [], 'doctorNotes': '', 'emergencyInstructions': [], 'emergencyInstructionsTemplate': [], 'emrTemplates': [], 'examinationNote': [], 'findings': [], 'investigationInstructions': [], 'investigationTemplates': [], 'investigations': [], 'isBalicAppointment': False, 'isQuickPrescription': False, 'labTest': [], 'languageCode': 'en', 'medicineTemplates': [], 'medicines': [{'medicineId': '612504', 'medicineName': 'A', 'medicineNameStrengthType': '', 'frequency': '1-0-1', 'duration': '90', 'durationIn': 'DAYS', 'instruction': 'AFTER MEAL', 'isActive': True}, {'medicineId': '612504', 'medicineName': 'B', 'medicineNameStrengthType': '', 'frequency': '1-0-1', 'duration': '90', 'durationIn': 'DAYS', 'instruction': 'AFTER MEAL', 'isActive': True}, {'medicineId': '612504', 'medicineName': 'C', 'medicineNameStrengthType': '', 'frequency': '1-0-1', 'duration': '90', 'durationIn': 'DAYS', 'instruction': 'AFTER MEAL', 'isActive': True}, {'medicineId': '612504', 'medicineName': 'D', 'medicineNameStrengthType': '', 'frequency': '1-0-1', 'duration': '90', 'durationIn': 'DAYS', 'instruction': 'AFTER MEAL', 'isActive': True}], 'procedures': [], 'prognosis': [], 'sharePrescription': False}\n",
      "{'adviceTemplates': [], 'advices': [], 'attachments': [], 'chiefComplaints': [], 'customOne': [], 'customThree': [], 'customTwo': [], 'disease': [], 'doctorNotes': '', 'emergencyInstructions': [], 'emergencyInstructionsTemplate': [], 'emrTemplates': [], 'examinationNote': [], 'findings': [], 'investigationInstructions': [], 'investigationTemplates': [], 'investigations': [], 'isBalicAppointment': False, 'isQuickPrescription': False, 'labTest': [], 'languageCode': 'en', 'medicineTemplates': [], 'medicines': [{'medicineId': '612504', 'medicineName': 'A', 'medicineNameStrengthType': '', 'frequency': '1-0-1', 'duration': '90', 'durationIn': 'DAYS', 'instruction': 'AFTER MEAL', 'isActive': True}, {'medicineId': '612504', 'medicineName': 'D', 'medicineNameStrengthType': '', 'frequency': '1-0-1', 'duration': '90', 'durationIn': 'DAYS', 'instruction': 'AFTER MEAL', 'isActive': True}, {'medicineId': '612504', 'medicineName': 'D', 'medicineNameStrengthType': '', 'frequency': '1-0-1', 'duration': '90', 'durationIn': 'DAYS', 'instruction': 'AFTER MEAL', 'isActive': False}, {'medicineId': '612504', 'medicineName': 'B', 'medicineNameStrengthType': '', 'frequency': '1-0-1', 'duration': '90', 'durationIn': 'DAYS', 'instruction': 'AFTER MEAL', 'isActive': True}], 'procedures': [], 'prognosis': [], 'sharePrescription': False}\n"
     ]
    }
   ],
   "source": [
    "for i in file['consultationData']:\n",
    "    print(i)"
   ],
   "metadata": {
    "collapsed": false,
    "ExecuteTime": {
     "end_time": "2024-07-19T04:54:33.248824300Z",
     "start_time": "2024-07-19T04:54:33.233222800Z"
    }
   },
   "id": "60433aaffeb34716"
  },
  {
   "cell_type": "code",
   "execution_count": 84,
   "outputs": [
    {
     "data": {
      "text/plain": "[{'medicineId': '619404',\n  'medicineName': 'A',\n  'medicineNameStrengthType': '',\n  'frequency': '1-0-1',\n  'duration': '90',\n  'durationIn': 'DAYS',\n  'instruction': 'AFTER MEAL',\n  'isActive': True},\n {'medicineId': '619804',\n  'medicineName': 'B',\n  'medicineNameStrengthType': '',\n  'frequency': '1-0-1',\n  'duration': '90',\n  'durationIn': 'DAYS',\n  'instruction': 'AFTER MEAL',\n  'isActive': False}]"
     },
     "execution_count": 84,
     "metadata": {},
     "output_type": "execute_result"
    }
   ],
   "source": [
    "file['consultationData'][0]['medicines']"
   ],
   "metadata": {
    "collapsed": false,
    "ExecuteTime": {
     "end_time": "2024-07-19T04:56:20.758852Z",
     "start_time": "2024-07-19T04:56:20.744683200Z"
    }
   },
   "id": "1a3bd442fe1d0cab"
  },
  {
   "cell_type": "code",
   "execution_count": 97,
   "outputs": [
    {
     "name": "stdout",
     "output_type": "stream",
     "text": [
      "66\n"
     ]
    }
   ],
   "source": [
    "k = 0\n",
    "a = 0\n",
    "b = 0\n",
    "c = 0\n",
    "d = 0\n",
    "e = 0\n",
    "g = 0\n",
    "d = {}\n",
    "for i in file['consultationData']:\n",
    "    for j in i['medicines']:\n",
    "        for p in j['medicineName']:\n",
    "            if p not in d:\n",
    "                d[p] = 0\n",
    "            else:\n",
    "                d[p] = d[p] + 1\n",
    "            \n",
    "            \n",
    "            # if p == 'A':\n",
    "            #     a = a + 1\n",
    "            # elif p == 'B':\n",
    "            #     a = a + 1\n",
    "            # elif p == 'C':\n",
    "            #     a = a + 1\n",
    "            \n",
    "            k = k + 1\n",
    "\n",
    "print(k)"
   ],
   "metadata": {
    "collapsed": false,
    "ExecuteTime": {
     "end_time": "2024-07-19T05:08:18.974395600Z",
     "start_time": "2024-07-19T05:08:18.959515700Z"
    }
   },
   "id": "6c27ec4a3e57a930"
  },
  {
   "cell_type": "code",
   "execution_count": 98,
   "outputs": [
    {
     "data": {
      "text/plain": "{'A': 16, 'B': 11, 'C': 12, 'D': 16, 'E': 5, 'G': 0}"
     },
     "execution_count": 98,
     "metadata": {},
     "output_type": "execute_result"
    }
   ],
   "source": [
    "d"
   ],
   "metadata": {
    "collapsed": false,
    "ExecuteTime": {
     "end_time": "2024-07-19T05:08:21.894438600Z",
     "start_time": "2024-07-19T05:08:21.877438Z"
    }
   },
   "id": "e23a14fbc507e193"
  },
  {
   "cell_type": "code",
   "execution_count": 95,
   "outputs": [
    {
     "data": {
      "text/plain": "2.129032258064516"
     },
     "execution_count": 95,
     "metadata": {},
     "output_type": "execute_result"
    }
   ],
   "source": [
    "66/31"
   ],
   "metadata": {
    "collapsed": false,
    "ExecuteTime": {
     "end_time": "2024-07-19T05:05:06.868000300Z",
     "start_time": "2024-07-19T05:05:06.853324900Z"
    }
   },
   "id": "f5610ee5cc7d312f"
  },
  {
   "cell_type": "code",
   "execution_count": 101,
   "outputs": [],
   "source": [
    "t = 0\n",
    "f = 0\n",
    "for i in file['consultationData']:\n",
    "    for j in i['medicines']:\n",
    "        if j['isActive'] == True:\n",
    "            t = t +1\n",
    "        else:\n",
    "            f = f+1"
   ],
   "metadata": {
    "collapsed": false,
    "ExecuteTime": {
     "end_time": "2024-07-19T05:11:39.495521800Z",
     "start_time": "2024-07-19T05:11:39.463522700Z"
    }
   },
   "id": "7dac742817dbc30c"
  },
  {
   "cell_type": "code",
   "execution_count": 102,
   "outputs": [
    {
     "data": {
      "text/plain": "46"
     },
     "execution_count": 102,
     "metadata": {},
     "output_type": "execute_result"
    }
   ],
   "source": [
    "t"
   ],
   "metadata": {
    "collapsed": false,
    "ExecuteTime": {
     "end_time": "2024-07-19T05:11:41.715937900Z",
     "start_time": "2024-07-19T05:11:41.709491700Z"
    }
   },
   "id": "1bfe6863d6007116"
  },
  {
   "cell_type": "code",
   "execution_count": 103,
   "outputs": [
    {
     "data": {
      "text/plain": "20"
     },
     "execution_count": 103,
     "metadata": {},
     "output_type": "execute_result"
    }
   ],
   "source": [
    "f"
   ],
   "metadata": {
    "collapsed": false,
    "ExecuteTime": {
     "end_time": "2024-07-19T05:11:45.666484600Z",
     "start_time": "2024-07-19T05:11:45.647335100Z"
    }
   },
   "id": "2575db79bde50144"
  },
  {
   "cell_type": "code",
   "execution_count": 104,
   "outputs": [
    {
     "data": {
      "text/plain": "0.696969696969697"
     },
     "execution_count": 104,
     "metadata": {},
     "output_type": "execute_result"
    }
   ],
   "source": [
    "t/(t+f)"
   ],
   "metadata": {
    "collapsed": false,
    "ExecuteTime": {
     "end_time": "2024-07-19T05:11:55.651412800Z",
     "start_time": "2024-07-19T05:11:55.642418200Z"
    }
   },
   "id": "e4f31ceb911416e"
  },
  {
   "cell_type": "code",
   "execution_count": 105,
   "outputs": [
    {
     "data": {
      "text/plain": "0.30303030303030304"
     },
     "execution_count": 105,
     "metadata": {},
     "output_type": "execute_result"
    }
   ],
   "source": [
    "f/(t+f)"
   ],
   "metadata": {
    "collapsed": false,
    "ExecuteTime": {
     "end_time": "2024-07-19T05:12:11.312168200Z",
     "start_time": "2024-07-19T05:12:11.292798500Z"
    }
   },
   "id": "b1c27ee7d72f7e0b"
  },
  {
   "cell_type": "code",
   "execution_count": 40,
   "outputs": [
    {
     "name": "stdout",
     "output_type": "stream",
     "text": [
      "Css\n",
      "Lokesh\n",
      "Shila\n",
      "Bhavika\n",
      "Raghu Viju\n",
      "Dinesh Kumar\n",
      "Lalit\n",
      "Ravi\n",
      "Dinesh\n",
      "Sanjay\n",
      "Akshay\n",
      "Nirmala\n",
      "Satish\n",
      "Kalaiarasi\n",
      "Satyanaaryan\n",
      "Nivitha\n",
      "Tejpal\n",
      "Nandhini\n",
      "Dhanamma\n",
      "Kushal\n",
      "Daniya\n",
      "Jay\n",
      "Preethi\n",
      "VITTHAL SHANKARRAO GHATE\n",
      "Naresh\n",
      "Suresh\n",
      "Govardhan\n",
      "Rajeshwari\n",
      "Santosh\n",
      "Tarachand\n",
      "Jay\n"
     ]
    }
   ],
   "source": [
    "l = []\n",
    "for i in file['patientDetails']:\n",
    "    if i['firstName'] == '':\n",
    "        continue\n",
    "    else:\n",
    "        l.append(i['firstName'])\n",
    "        print(i['firstName'])"
   ],
   "metadata": {
    "collapsed": false,
    "ExecuteTime": {
     "end_time": "2024-07-19T04:35:33.461137600Z",
     "start_time": "2024-07-19T04:35:33.455124800Z"
    }
   },
   "id": "b17eeb651ebcaefd"
  },
  {
   "cell_type": "code",
   "execution_count": 29,
   "outputs": [
    {
     "data": {
      "text/plain": "['Css',\n 'Lokesh',\n 'Shila',\n 'Bhavika',\n 'Raghu Viju',\n 'Dinesh Kumar',\n 'Lalit',\n 'Ravi',\n 'Dinesh',\n 'Sanjay',\n 'Akshay',\n 'Nirmala',\n 'Satish',\n 'Kalaiarasi',\n 'Satyanaaryan',\n 'Nivitha',\n 'Tejpal',\n 'Nandhini',\n 'Dhanamma',\n 'Kushal',\n 'Daniya',\n 'Jay',\n 'Preethi',\n 'VITTHAL SHANKARRAO GHATE',\n 'Naresh',\n 'Suresh',\n 'Govardhan',\n 'Rajeshwari',\n 'Santosh',\n 'Tarachand',\n 'Jay']"
     },
     "execution_count": 29,
     "metadata": {},
     "output_type": "execute_result"
    }
   ],
   "source": [
    "l"
   ],
   "metadata": {
    "collapsed": false,
    "ExecuteTime": {
     "end_time": "2024-07-19T04:30:58.813700Z",
     "start_time": "2024-07-19T04:30:58.806425600Z"
    }
   },
   "id": "28e68f42a15a1110"
  },
  {
   "cell_type": "code",
   "execution_count": 30,
   "outputs": [
    {
     "data": {
      "text/plain": "31"
     },
     "execution_count": 30,
     "metadata": {},
     "output_type": "execute_result"
    }
   ],
   "source": [
    "len(l)"
   ],
   "metadata": {
    "collapsed": false,
    "ExecuteTime": {
     "end_time": "2024-07-19T04:30:59.396682500Z",
     "start_time": "2024-07-19T04:30:59.388041Z"
    }
   },
   "id": "d928dfefab7269b3"
  },
  {
   "cell_type": "code",
   "execution_count": 106,
   "outputs": [
    {
     "name": "stdout",
     "output_type": "stream",
     "text": [
      "M\n"
     ]
    },
    {
     "ename": "KeyError",
     "evalue": "'gender'",
     "output_type": "error",
     "traceback": [
      "\u001B[1;31m---------------------------------------------------------------------------\u001B[0m",
      "\u001B[1;31mKeyError\u001B[0m                                  Traceback (most recent call last)",
      "Cell \u001B[1;32mIn[106], line 3\u001B[0m\n\u001B[0;32m      1\u001B[0m l \u001B[38;5;241m=\u001B[39m []\n\u001B[0;32m      2\u001B[0m \u001B[38;5;28;01mfor\u001B[39;00m i \u001B[38;5;129;01min\u001B[39;00m file[\u001B[38;5;124m'\u001B[39m\u001B[38;5;124mpatientDetails\u001B[39m\u001B[38;5;124m'\u001B[39m]:\n\u001B[1;32m----> 3\u001B[0m     \u001B[38;5;28;01mfor\u001B[39;00m j \u001B[38;5;129;01min\u001B[39;00m i[\u001B[38;5;124m'\u001B[39m\u001B[38;5;124mgender\u001B[39m\u001B[38;5;124m'\u001B[39m]:\n\u001B[0;32m      4\u001B[0m         \u001B[38;5;28mprint\u001B[39m(j)\n",
      "\u001B[1;31mKeyError\u001B[0m: 'gender'"
     ]
    }
   ],
   "source": [
    "l = []\n",
    "for i in file['patientDetails']:\n",
    "    for j in i['gender']:\n",
    "        print(j)"
   ],
   "metadata": {
    "collapsed": false,
    "ExecuteTime": {
     "end_time": "2024-07-19T05:14:27.736136200Z",
     "start_time": "2024-07-19T05:14:27.715914800Z"
    }
   },
   "id": "65c5d8446bc23187"
  },
  {
   "cell_type": "code",
   "execution_count": null,
   "outputs": [],
   "source": [],
   "metadata": {
    "collapsed": false
   },
   "id": "4dcdd2468d3ad4c4"
  },
  {
   "cell_type": "code",
   "execution_count": 26,
   "outputs": [
    {
     "data": {
      "text/plain": "9"
     },
     "execution_count": 26,
     "metadata": {},
     "output_type": "execute_result"
    }
   ],
   "source": [
    "len(l)"
   ],
   "metadata": {
    "collapsed": false,
    "ExecuteTime": {
     "end_time": "2024-07-19T04:30:20.533097900Z",
     "start_time": "2024-07-19T04:30:20.528299300Z"
    }
   },
   "id": "dd5c1e3dcb1eb821"
  },
  {
   "cell_type": "code",
   "execution_count": 27,
   "outputs": [
    {
     "data": {
      "text/plain": "0.2903225806451613"
     },
     "execution_count": 27,
     "metadata": {},
     "output_type": "execute_result"
    }
   ],
   "source": [
    "9/31"
   ],
   "metadata": {
    "collapsed": false,
    "ExecuteTime": {
     "end_time": "2024-07-19T04:30:25.564702900Z",
     "start_time": "2024-07-19T04:30:25.557301200Z"
    }
   },
   "id": "d30e81504c975e31"
  },
  {
   "cell_type": "code",
   "execution_count": 47,
   "outputs": [
    {
     "data": {
      "text/plain": "0.3225806451612903"
     },
     "execution_count": 47,
     "metadata": {},
     "output_type": "execute_result"
    }
   ],
   "source": [
    "10/31"
   ],
   "metadata": {
    "collapsed": false,
    "ExecuteTime": {
     "end_time": "2024-07-19T04:41:33.204098600Z",
     "start_time": "2024-07-19T04:41:33.187707200Z"
    }
   },
   "id": "d9d0b1111b92731b"
  },
  {
   "cell_type": "code",
   "execution_count": 117,
   "outputs": [],
   "source": [
    "isValidMobile = []"
   ],
   "metadata": {
    "collapsed": false,
    "ExecuteTime": {
     "end_time": "2024-07-19T05:19:34.681154100Z",
     "start_time": "2024-07-19T05:19:34.667675700Z"
    }
   },
   "id": "36b206406dcc712a"
  },
  {
   "cell_type": "code",
   "execution_count": 118,
   "outputs": [],
   "source": [
    "for i in file['phoneNumber']:\n",
    "    if str(i[:3]) == '+91' or str(i[:3]) == '91':\n",
    "            isValidMobile.append('True')\n",
    "    elif i == None:\n",
    "            isValidMobile.append('False')\n",
    "    else:\n",
    "        isValidMobile.append('False')\n",
    "        "
   ],
   "metadata": {
    "collapsed": false,
    "ExecuteTime": {
     "end_time": "2024-07-19T05:19:35.621994400Z",
     "start_time": "2024-07-19T05:19:35.614477Z"
    }
   },
   "id": "d169acee759740cd"
  },
  {
   "cell_type": "code",
   "execution_count": null,
   "outputs": [],
   "source": [],
   "metadata": {
    "collapsed": false
   },
   "id": "40927d7a181dd4ed"
  },
  {
   "cell_type": "code",
   "execution_count": 119,
   "outputs": [
    {
     "data": {
      "text/plain": "['False',\n 'False',\n 'False',\n 'False',\n 'False',\n 'True',\n 'False',\n 'False',\n 'False',\n 'False',\n 'False',\n 'False',\n 'False',\n 'False',\n 'False',\n 'False',\n 'False',\n 'False',\n 'False',\n 'False',\n 'False',\n 'False',\n 'False',\n 'True',\n 'True',\n 'True',\n 'True',\n 'False',\n 'False',\n 'True',\n 'True']"
     },
     "execution_count": 119,
     "metadata": {},
     "output_type": "execute_result"
    }
   ],
   "source": [
    "isValidMobile"
   ],
   "metadata": {
    "collapsed": false,
    "ExecuteTime": {
     "end_time": "2024-07-19T05:19:35.873309Z",
     "start_time": "2024-07-19T05:19:35.850658100Z"
    }
   },
   "id": "dfbb3321e4c4bd0d"
  },
  {
   "cell_type": "code",
   "execution_count": 120,
   "outputs": [],
   "source": [
    "file['isValidMobile'] = isValidMobile"
   ],
   "metadata": {
    "collapsed": false,
    "ExecuteTime": {
     "end_time": "2024-07-19T05:19:48.304580700Z",
     "start_time": "2024-07-19T05:19:48.282225100Z"
    }
   },
   "id": "1ce4225bc39ff57"
  },
  {
   "cell_type": "code",
   "execution_count": 122,
   "outputs": [],
   "source": [
    "t = 0\n",
    "f = 0\n",
    "for i in isValidMobile:\n",
    "    if i == 'True':\n",
    "        t = t+1\n",
    "    else:\n",
    "        f = f +1"
   ],
   "metadata": {
    "collapsed": false,
    "ExecuteTime": {
     "end_time": "2024-07-19T05:20:57.852372Z",
     "start_time": "2024-07-19T05:20:57.834908800Z"
    }
   },
   "id": "6c6bcaead9528199"
  },
  {
   "cell_type": "code",
   "execution_count": 123,
   "outputs": [
    {
     "data": {
      "text/plain": "7"
     },
     "execution_count": 123,
     "metadata": {},
     "output_type": "execute_result"
    }
   ],
   "source": [
    "t"
   ],
   "metadata": {
    "collapsed": false,
    "ExecuteTime": {
     "end_time": "2024-07-19T05:21:00.915386100Z",
     "start_time": "2024-07-19T05:21:00.897486200Z"
    }
   },
   "id": "1baf4ed5c723b62a"
  },
  {
   "cell_type": "code",
   "execution_count": 121,
   "outputs": [
    {
     "data": {
      "text/plain": "         _id appointmentId                                     patientDetails  \\\n0   T6hf3rb5     40d2-9c9f  {'_id': 'T6hb630b3', 'firstName': 'Css', 'last...   \n1   T65g3rb5      40dbtc9f  {'_id': 'T6h33b300', 'firstName': 'Lokesh', 'l...   \n2   T7g6Srb5      g3Wt5c9f  {'_id': 'TjhB4373', 'phrId': '63b5hvy614d5', '...   \n3   94bg8W8d      fb6-a535  {'_id': '6df4R5b', 'phrId': '644nig7y', 'first...   \n4   T6h8H56c       67h7KL9  {'_id': 'lK9hy06a', 'firstName': 'Raghu Viju',...   \n5    T9Jh8c8        Hy7Y91  {'_id': 'kI9d5c6', 'firstName': 'Dinesh Kumar'...   \n6   9Is624b9     10dY8a-4a  {'_id': 'i9R324b7', 'phrId': '67Yt2b97', 'firs...   \n7   T8H9c3c6      e8056Ye8  {'_id': 'T6h41b5ad3d8002ad9c3c4', 'firstName':...   \n8    T8Ud380     dbc0-c66b  {'_id': 'T9Iy347e', 'firstName': 'Dinesh', 'la...   \n9    T345fG4        1576a7  {'_id': 'T4Rb1a2', 'firstName': 'Sanjay', 'las...   \n10  T4F6a175       b6Te4ac  {'_id': 'Tr4T2173', 'phrId': '6E48U79', 'first...   \n11   TW3r002        bu5Qfb  {'_id': 'T6Wa50', 'firstName': 'Nirmala', 'las...   \n12   6U6Ra36       86U8Y45  {'_id': '65sRa36', 'firstName': 'Satish', 'las...   \n13   u7Y7Aa5       Ufd7231  {'_id': 'UG67231', 'phrId': 'T6a7231', 'firstN...   \n14   T3R5dec       E4u5Ea2  {'_id': 'E4u5Ea2', 'firstName': 'Satyanaaryan'...   \n15   T4E7Ge6      T4E3e410  {'_id': 'T4E7Ge6', 'firstName': 'Nivitha', 'la...   \n16  E5336545       04Re22d  {'_id': '04Re22d', 'firstName': 'Tejpal', 'las...   \n17   T7Ys58b      af9784hf  {'_id': 'u7dWa589', 'firstName': 'Nandhini', '...   \n18  Y874Us5w       I8eW201  {'_id': 'TU7e913', 'firstName': 'Dhanamma', 'l...   \n19   Y7s5G42     f7r501cb1  {'_id': 'H8s2d40', 'firstName': 'Kushal', 'las...   \n20  Y7eE5cd8    cf092c8t6c  {'_id': 'u9cd6', 'phrId': '6463U8s231', 'first...   \n21   I9984e8      O02n262e  {'_id': 'Pdh97S6', 'phrId': 'Jus0480', 'firstN...   \n22  Tu78a783      5dfN9s41  {'_id': 'h02U8a781', 'firstName': 'Preethi', '...   \n23   U9D2w6c      cc86re0f  {'_id': 'T6h40a5ad3d8002ad9c06a', 'firstName':...   \n24  T6hY6sEe       bd99dU7  {'_id': 'Y7sHec', 'firstName': 'Naresh', 'last...   \n25    H7sT6c        bcWe50  {'_id': 'T6h408981ayf32b63bcfa', 'firstName': ...   \n26   8Utyd5b       7au8se3  {'_id': 'T6U67af9', 'firstName': 'Govardhan', ...   \n27  y87Ta5c7      432cT213  {'_id': 'R53Et5W', 'firstName': 'Rajeshwari', ...   \n28  Ub7S65b7      D3fFr42c  {'_id': 'dE3r$2b5', 'firstName': 'Santosh', 'l...   \n29   yD7s2d7       7uyT6Rs  {'_id': 'TI93Hd5', 'firstName': 'Tarachand', '...   \n30   I9Sb4e8        O02n2e  {'_id': 'Pdh97S6', 'phrId': 'Jus0480', 'firstN...   \n\n       phoneNumber                                   consultationData  \\\n0      96686896670  {'adviceTemplates': [], 'advices': [], 'attach...   \n1       9496368916  {'adviceTemplates': [], 'advices': [], 'attach...   \n2       7787204833  {'adviceTemplates': [], 'advices': [], 'attach...   \n3       9376756879  {'adviceTemplates': [], 'advices': [], 'attach...   \n4       5267384241  {'adviceTemplates': [], 'advices': [], 'attach...   \n5    +919826374025  {'adviceTemplates': [], 'advices': [], 'attach...   \n6       7587265252  {'adviceTemplates': [], 'advices': [], 'attach...   \n7       5586958767  {'adviceTemplates': [], 'advices': [], 'attach...   \n8       9987602525  {'adviceTemplates': [], 'advices': [], 'attach...   \n9       9234354366  {'adviceTemplates': [], 'advices': [], 'attach...   \n10      4863281056  {'adviceTemplates': [], 'advices': [], 'attach...   \n11      8687986800  {'adviceTemplates': [], 'advices': [], 'attach...   \n12                  {'adviceTemplates': [], 'advices': [], 'attach...   \n13      7152684236  {'labTest': [], 'emrTemplates': [], 'doctorNot...   \n14                  {'adviceTemplates': [], 'advices': [], 'attach...   \n15      9184723620  {'adviceTemplates': [], 'advices': [], 'attach...   \n16                  {'adviceTemplates': [], 'advices': [], 'attach...   \n17      5847346075  {'adviceTemplates': [], 'advices': [], 'attach...   \n18      9064537237  {'adviceTemplates': [], 'advices': [], 'attach...   \n19                  {'adviceTemplates': [], 'advices': [], 'attach...   \n20       992727892  {'adviceTemplates': [], 'advices': [], 'attach...   \n21      6888324121  {'adviceTemplates': [], 'advices': [], 'attach...   \n22      8248594521  {'adviceTemplates': [], 'advices': [], 'attach...   \n23   +917938475936  {'adviceTemplates': [], 'advices': [], 'attach...   \n24  +9124648979746  {'adviceTemplates': [], 'advices': [], 'attach...   \n25   +916883788633  {'adviceTemplates': [], 'advices': [], 'attach...   \n26   +916636278363  {'adviceTemplates': [], 'advices': [], 'attach...   \n27      6525356535  {'adviceTemplates': [], 'advices': [], 'attach...   \n28                  {'adviceTemplates': [], 'advices': [], 'attach...   \n29   +919093872282  {'adviceTemplates': [], 'advices': [], 'attach...   \n30   +916888324121  {'adviceTemplates': [], 'advices': [], 'attach...   \n\n   isValidMobile  \n0          False  \n1          False  \n2          False  \n3          False  \n4          False  \n5           True  \n6          False  \n7          False  \n8          False  \n9          False  \n10         False  \n11         False  \n12         False  \n13         False  \n14         False  \n15         False  \n16         False  \n17         False  \n18         False  \n19         False  \n20         False  \n21         False  \n22         False  \n23          True  \n24          True  \n25          True  \n26          True  \n27         False  \n28         False  \n29          True  \n30          True  ",
      "text/html": "<div>\n<style scoped>\n    .dataframe tbody tr th:only-of-type {\n        vertical-align: middle;\n    }\n\n    .dataframe tbody tr th {\n        vertical-align: top;\n    }\n\n    .dataframe thead th {\n        text-align: right;\n    }\n</style>\n<table border=\"1\" class=\"dataframe\">\n  <thead>\n    <tr style=\"text-align: right;\">\n      <th></th>\n      <th>_id</th>\n      <th>appointmentId</th>\n      <th>patientDetails</th>\n      <th>phoneNumber</th>\n      <th>consultationData</th>\n      <th>isValidMobile</th>\n    </tr>\n  </thead>\n  <tbody>\n    <tr>\n      <th>0</th>\n      <td>T6hf3rb5</td>\n      <td>40d2-9c9f</td>\n      <td>{'_id': 'T6hb630b3', 'firstName': 'Css', 'last...</td>\n      <td>96686896670</td>\n      <td>{'adviceTemplates': [], 'advices': [], 'attach...</td>\n      <td>False</td>\n    </tr>\n    <tr>\n      <th>1</th>\n      <td>T65g3rb5</td>\n      <td>40dbtc9f</td>\n      <td>{'_id': 'T6h33b300', 'firstName': 'Lokesh', 'l...</td>\n      <td>9496368916</td>\n      <td>{'adviceTemplates': [], 'advices': [], 'attach...</td>\n      <td>False</td>\n    </tr>\n    <tr>\n      <th>2</th>\n      <td>T7g6Srb5</td>\n      <td>g3Wt5c9f</td>\n      <td>{'_id': 'TjhB4373', 'phrId': '63b5hvy614d5', '...</td>\n      <td>7787204833</td>\n      <td>{'adviceTemplates': [], 'advices': [], 'attach...</td>\n      <td>False</td>\n    </tr>\n    <tr>\n      <th>3</th>\n      <td>94bg8W8d</td>\n      <td>fb6-a535</td>\n      <td>{'_id': '6df4R5b', 'phrId': '644nig7y', 'first...</td>\n      <td>9376756879</td>\n      <td>{'adviceTemplates': [], 'advices': [], 'attach...</td>\n      <td>False</td>\n    </tr>\n    <tr>\n      <th>4</th>\n      <td>T6h8H56c</td>\n      <td>67h7KL9</td>\n      <td>{'_id': 'lK9hy06a', 'firstName': 'Raghu Viju',...</td>\n      <td>5267384241</td>\n      <td>{'adviceTemplates': [], 'advices': [], 'attach...</td>\n      <td>False</td>\n    </tr>\n    <tr>\n      <th>5</th>\n      <td>T9Jh8c8</td>\n      <td>Hy7Y91</td>\n      <td>{'_id': 'kI9d5c6', 'firstName': 'Dinesh Kumar'...</td>\n      <td>+919826374025</td>\n      <td>{'adviceTemplates': [], 'advices': [], 'attach...</td>\n      <td>True</td>\n    </tr>\n    <tr>\n      <th>6</th>\n      <td>9Is624b9</td>\n      <td>10dY8a-4a</td>\n      <td>{'_id': 'i9R324b7', 'phrId': '67Yt2b97', 'firs...</td>\n      <td>7587265252</td>\n      <td>{'adviceTemplates': [], 'advices': [], 'attach...</td>\n      <td>False</td>\n    </tr>\n    <tr>\n      <th>7</th>\n      <td>T8H9c3c6</td>\n      <td>e8056Ye8</td>\n      <td>{'_id': 'T6h41b5ad3d8002ad9c3c4', 'firstName':...</td>\n      <td>5586958767</td>\n      <td>{'adviceTemplates': [], 'advices': [], 'attach...</td>\n      <td>False</td>\n    </tr>\n    <tr>\n      <th>8</th>\n      <td>T8Ud380</td>\n      <td>dbc0-c66b</td>\n      <td>{'_id': 'T9Iy347e', 'firstName': 'Dinesh', 'la...</td>\n      <td>9987602525</td>\n      <td>{'adviceTemplates': [], 'advices': [], 'attach...</td>\n      <td>False</td>\n    </tr>\n    <tr>\n      <th>9</th>\n      <td>T345fG4</td>\n      <td>1576a7</td>\n      <td>{'_id': 'T4Rb1a2', 'firstName': 'Sanjay', 'las...</td>\n      <td>9234354366</td>\n      <td>{'adviceTemplates': [], 'advices': [], 'attach...</td>\n      <td>False</td>\n    </tr>\n    <tr>\n      <th>10</th>\n      <td>T4F6a175</td>\n      <td>b6Te4ac</td>\n      <td>{'_id': 'Tr4T2173', 'phrId': '6E48U79', 'first...</td>\n      <td>4863281056</td>\n      <td>{'adviceTemplates': [], 'advices': [], 'attach...</td>\n      <td>False</td>\n    </tr>\n    <tr>\n      <th>11</th>\n      <td>TW3r002</td>\n      <td>bu5Qfb</td>\n      <td>{'_id': 'T6Wa50', 'firstName': 'Nirmala', 'las...</td>\n      <td>8687986800</td>\n      <td>{'adviceTemplates': [], 'advices': [], 'attach...</td>\n      <td>False</td>\n    </tr>\n    <tr>\n      <th>12</th>\n      <td>6U6Ra36</td>\n      <td>86U8Y45</td>\n      <td>{'_id': '65sRa36', 'firstName': 'Satish', 'las...</td>\n      <td></td>\n      <td>{'adviceTemplates': [], 'advices': [], 'attach...</td>\n      <td>False</td>\n    </tr>\n    <tr>\n      <th>13</th>\n      <td>u7Y7Aa5</td>\n      <td>Ufd7231</td>\n      <td>{'_id': 'UG67231', 'phrId': 'T6a7231', 'firstN...</td>\n      <td>7152684236</td>\n      <td>{'labTest': [], 'emrTemplates': [], 'doctorNot...</td>\n      <td>False</td>\n    </tr>\n    <tr>\n      <th>14</th>\n      <td>T3R5dec</td>\n      <td>E4u5Ea2</td>\n      <td>{'_id': 'E4u5Ea2', 'firstName': 'Satyanaaryan'...</td>\n      <td></td>\n      <td>{'adviceTemplates': [], 'advices': [], 'attach...</td>\n      <td>False</td>\n    </tr>\n    <tr>\n      <th>15</th>\n      <td>T4E7Ge6</td>\n      <td>T4E3e410</td>\n      <td>{'_id': 'T4E7Ge6', 'firstName': 'Nivitha', 'la...</td>\n      <td>9184723620</td>\n      <td>{'adviceTemplates': [], 'advices': [], 'attach...</td>\n      <td>False</td>\n    </tr>\n    <tr>\n      <th>16</th>\n      <td>E5336545</td>\n      <td>04Re22d</td>\n      <td>{'_id': '04Re22d', 'firstName': 'Tejpal', 'las...</td>\n      <td></td>\n      <td>{'adviceTemplates': [], 'advices': [], 'attach...</td>\n      <td>False</td>\n    </tr>\n    <tr>\n      <th>17</th>\n      <td>T7Ys58b</td>\n      <td>af9784hf</td>\n      <td>{'_id': 'u7dWa589', 'firstName': 'Nandhini', '...</td>\n      <td>5847346075</td>\n      <td>{'adviceTemplates': [], 'advices': [], 'attach...</td>\n      <td>False</td>\n    </tr>\n    <tr>\n      <th>18</th>\n      <td>Y874Us5w</td>\n      <td>I8eW201</td>\n      <td>{'_id': 'TU7e913', 'firstName': 'Dhanamma', 'l...</td>\n      <td>9064537237</td>\n      <td>{'adviceTemplates': [], 'advices': [], 'attach...</td>\n      <td>False</td>\n    </tr>\n    <tr>\n      <th>19</th>\n      <td>Y7s5G42</td>\n      <td>f7r501cb1</td>\n      <td>{'_id': 'H8s2d40', 'firstName': 'Kushal', 'las...</td>\n      <td></td>\n      <td>{'adviceTemplates': [], 'advices': [], 'attach...</td>\n      <td>False</td>\n    </tr>\n    <tr>\n      <th>20</th>\n      <td>Y7eE5cd8</td>\n      <td>cf092c8t6c</td>\n      <td>{'_id': 'u9cd6', 'phrId': '6463U8s231', 'first...</td>\n      <td>992727892</td>\n      <td>{'adviceTemplates': [], 'advices': [], 'attach...</td>\n      <td>False</td>\n    </tr>\n    <tr>\n      <th>21</th>\n      <td>I9984e8</td>\n      <td>O02n262e</td>\n      <td>{'_id': 'Pdh97S6', 'phrId': 'Jus0480', 'firstN...</td>\n      <td>6888324121</td>\n      <td>{'adviceTemplates': [], 'advices': [], 'attach...</td>\n      <td>False</td>\n    </tr>\n    <tr>\n      <th>22</th>\n      <td>Tu78a783</td>\n      <td>5dfN9s41</td>\n      <td>{'_id': 'h02U8a781', 'firstName': 'Preethi', '...</td>\n      <td>8248594521</td>\n      <td>{'adviceTemplates': [], 'advices': [], 'attach...</td>\n      <td>False</td>\n    </tr>\n    <tr>\n      <th>23</th>\n      <td>U9D2w6c</td>\n      <td>cc86re0f</td>\n      <td>{'_id': 'T6h40a5ad3d8002ad9c06a', 'firstName':...</td>\n      <td>+917938475936</td>\n      <td>{'adviceTemplates': [], 'advices': [], 'attach...</td>\n      <td>True</td>\n    </tr>\n    <tr>\n      <th>24</th>\n      <td>T6hY6sEe</td>\n      <td>bd99dU7</td>\n      <td>{'_id': 'Y7sHec', 'firstName': 'Naresh', 'last...</td>\n      <td>+9124648979746</td>\n      <td>{'adviceTemplates': [], 'advices': [], 'attach...</td>\n      <td>True</td>\n    </tr>\n    <tr>\n      <th>25</th>\n      <td>H7sT6c</td>\n      <td>bcWe50</td>\n      <td>{'_id': 'T6h408981ayf32b63bcfa', 'firstName': ...</td>\n      <td>+916883788633</td>\n      <td>{'adviceTemplates': [], 'advices': [], 'attach...</td>\n      <td>True</td>\n    </tr>\n    <tr>\n      <th>26</th>\n      <td>8Utyd5b</td>\n      <td>7au8se3</td>\n      <td>{'_id': 'T6U67af9', 'firstName': 'Govardhan', ...</td>\n      <td>+916636278363</td>\n      <td>{'adviceTemplates': [], 'advices': [], 'attach...</td>\n      <td>True</td>\n    </tr>\n    <tr>\n      <th>27</th>\n      <td>y87Ta5c7</td>\n      <td>432cT213</td>\n      <td>{'_id': 'R53Et5W', 'firstName': 'Rajeshwari', ...</td>\n      <td>6525356535</td>\n      <td>{'adviceTemplates': [], 'advices': [], 'attach...</td>\n      <td>False</td>\n    </tr>\n    <tr>\n      <th>28</th>\n      <td>Ub7S65b7</td>\n      <td>D3fFr42c</td>\n      <td>{'_id': 'dE3r$2b5', 'firstName': 'Santosh', 'l...</td>\n      <td></td>\n      <td>{'adviceTemplates': [], 'advices': [], 'attach...</td>\n      <td>False</td>\n    </tr>\n    <tr>\n      <th>29</th>\n      <td>yD7s2d7</td>\n      <td>7uyT6Rs</td>\n      <td>{'_id': 'TI93Hd5', 'firstName': 'Tarachand', '...</td>\n      <td>+919093872282</td>\n      <td>{'adviceTemplates': [], 'advices': [], 'attach...</td>\n      <td>True</td>\n    </tr>\n    <tr>\n      <th>30</th>\n      <td>I9Sb4e8</td>\n      <td>O02n2e</td>\n      <td>{'_id': 'Pdh97S6', 'phrId': 'Jus0480', 'firstN...</td>\n      <td>+916888324121</td>\n      <td>{'adviceTemplates': [], 'advices': [], 'attach...</td>\n      <td>True</td>\n    </tr>\n  </tbody>\n</table>\n</div>"
     },
     "execution_count": 121,
     "metadata": {},
     "output_type": "execute_result"
    }
   ],
   "source": [
    "file"
   ],
   "metadata": {
    "collapsed": false,
    "ExecuteTime": {
     "end_time": "2024-07-19T05:19:53.406269400Z",
     "start_time": "2024-07-19T05:19:53.276147700Z"
    }
   },
   "id": "56c2b35c72b60df0"
  },
  {
   "cell_type": "code",
   "execution_count": null,
   "outputs": [],
   "source": [],
   "metadata": {
    "collapsed": false
   },
   "id": "f042582c13d8a799"
  }
 ],
 "metadata": {
  "kernelspec": {
   "display_name": "Python 3",
   "language": "python",
   "name": "python3"
  },
  "language_info": {
   "codemirror_mode": {
    "name": "ipython",
    "version": 2
   },
   "file_extension": ".py",
   "mimetype": "text/x-python",
   "name": "python",
   "nbconvert_exporter": "python",
   "pygments_lexer": "ipython2",
   "version": "2.7.6"
  }
 },
 "nbformat": 4,
 "nbformat_minor": 5
}
